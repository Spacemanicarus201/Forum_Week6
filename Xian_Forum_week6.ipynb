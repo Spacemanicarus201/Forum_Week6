{
  "metadata": {
    "language_info": {
      "codemirror_mode": {
        "name": "python",
        "version": 3
      },
      "file_extension": ".py",
      "mimetype": "text/x-python",
      "name": "python",
      "nbconvert_exporter": "python",
      "pygments_lexer": "ipython3",
      "version": "3.8"
    },
    "kernelspec": {
      "name": "python",
      "display_name": "Python (Pyodide)",
      "language": "python"
    }
  },
  "nbformat_minor": 4,
  "nbformat": 4,
  "cells": [
    {
      "cell_type": "code",
      "source": "lloyd = {\n    \"name\": \"Lloyd\",\n    \"homework\": [90.0, 97.0, 75.0, 92.0],\n    \"quizzes\": [88.0, 40.0, 94.0],\n    \"tests\": [75.0, 90.0]\n}\nalice = {\n    \"name\": \"Alice\",\n    \"homework\": [100.0, 92.0, 98.0, 100.0],\n    \"quizzes\": [82.0, 83.0, 91.0],\n    \"tests\": [89.0, 97.0]\n}\ntyler = {\n    \"name\": \"Tyler\",\n    \"homework\": [0.0, 87.0, 75.0, 22.0],\n    \"quizzes\": [0.0, 75.0, 78.0],\n    \"tests\": [100.0, 100.0]\n}\nstudents = [lloyd, alice, tyler]\n\ndef average(numbers):\n    total = sum(numbers)\n    total = float(total)\n    return total / len(numbers)\n\ndef get_average(student):\n    homework = average(student[\"homework\"])\n    quizzes = average(student[\"quizzes\"])\n    tests = average(student[\"tests\"])\n    return (homework * 0.1) + (quizzes * 0.3) + (tests * 0.6)\n\ndef get_letter_grade(score):\n    if score >= 90:\n        return \"A\"\n    elif score >= 80:\n        return \"B\"\n    elif score >= 70:\n        return \"C\"\n    elif score >= 60:\n        return \"D\"\n    else:\n        return \"F\"\n\nfor student in students:\n    print(\"Name:\", student[\"name\"])\n    print(\"Homework:\", student[\"homework\"])\n    print(\"Quizzes:\", student[\"quizzes\"])\n    print(\"Tests:\", student[\"tests\"])\n    print(\"Average:\", get_average(student))\n    print(\"Letter Grade:\", get_letter_grade(get_average(student)))\n    print(\"\\n\")\n\ndef get_class_average(students):\n    results = []\n    for student in students:\n        student_average = get_average(student)\n        results.append(student_average)\n    return average(results)\n\nclass_average = get_class_average(students)\nprint(\"Class Average:\", class_average)\nprint(\"Class Letter Grade:\", get_letter_grade(class_average))",
      "metadata": {
        "trusted": true
      },
      "execution_count": 1,
      "outputs": [
        {
          "name": "stdout",
          "text": "Name: Lloyd\nHomework: [90.0, 97.0, 75.0, 92.0]\nQuizzes: [88.0, 40.0, 94.0]\nTests: [75.0, 90.0]\nAverage: 80.55\nLetter Grade: B\n\n\nName: Alice\nHomework: [100.0, 92.0, 98.0, 100.0]\nQuizzes: [82.0, 83.0, 91.0]\nTests: [89.0, 97.0]\nAverage: 91.14999999999999\nLetter Grade: A\n\n\nName: Tyler\nHomework: [0.0, 87.0, 75.0, 22.0]\nQuizzes: [0.0, 75.0, 78.0]\nTests: [100.0, 100.0]\nAverage: 79.9\nLetter Grade: C\n\n\nClass Average: 83.86666666666666\nClass Letter Grade: B\n",
          "output_type": "stream"
        }
      ]
    },
    {
      "cell_type": "code",
      "source": "# Forum Task 2 :D\n\ncourse_no = ('COP 2510', 'EGN 3000L', 'MAC 2281', 'MUH 3016', 'PHY 2048')\nname = {\n    course_no[0] : 'Programming Concepts',\n    course_no[1] : 'Foundations of Engineering Lab',\n    course_no[2] : 'Calculus I',\n    course_no[3] : 'Survey of Jazz',\n    course_no[4] : 'General Physics I'\n}\n\nteacher = {\n    course_no[0] : 'Z. Beasley',\n    course_no[1] : 'J. Anderson',\n    course_no[2] : 'A. Makaryus',\n    course_no[3] : 'A. Wilkins',\n    course_no[4] : 'G. Pradhan'\n}\n\ntime = {\n    course_no[0] : 'MW 12:30pm – 1:45pm',\n    course_no[1] : 'TR 11:00am – 12:15pm',\n    course_no[2] : 'MW 9:30am – 10:45am',\n    course_no[3] : 'online asynchronous',\n    course_no[4] : 'TR 5:00pm – 6:15pm'\n}\n\ncourse_select = str(input(\"Enter a course number: \"))\n\nif course_select in course_no:\n    print(\"The course details are as follows:\")\n    print(f\"Course Name: \\t {name[course_select]}\")\n    print(f\"Instructor:  \\t {teacher[course_select]}\")\n    print(f\"Class Times: \\t {time[course_select]}\")\nelse:\n    print(f\"{course_select} is an invalid course number.\")",
      "metadata": {
        "trusted": true
      },
      "execution_count": 8,
      "outputs": [
        {
          "name": "stdout",
          "text": "<PyodideFuture pending cb=[WebLoop._decrement_in_progress()]> is an invalid course number.\n",
          "output_type": "stream"
        }
      ]
    },
    {
      "cell_type": "code",
      "source": "codes = {\n    \" \" : \" \",\n    \",\" : \"--..--\",\n    \".\" : \".-.-.-\",\n    \"?\" : \"..--..\",\n    \"0\" : \"-----\",\n    \"1\" : \".----\",\n    \"2\" : \"..---\",\n    \"3\" : \"...--\",\n    \"4\" : \"....-\",\n    \"5\" : \".....\",\n    \"6\" : \"-....\",\n    \"7\" : \"--...\",\n    \"8\" : \"---..\",\n    \"9\" : \"----.\",\n    \"A\" : \".-\",\n    \"B\" : \"-...\",\n    \"C\" : \"-.-.\",\n    \"D\" : \"-..\",\n    \"E\" : \".\",\n    \"F\" : \"..-.\",\n    \"G\" : \"--.\",\n    \"H\" : \". ...\",\n    \"I\" : \". .\",\n    \"J\" : \".---\",\n    \"K\" : \"-.-\",\n    \"L\" : \".-..\",\n    \"M\" : \"--\",\n    \"N\" : \"-.\",\n    \"O\" : \"---\",\n    \"P\" : \".--.\",\n    \"Q\" : \"--.-\",\n    \"R\" : \".-.\",\n    \"S\" : \"...\",\n    \"T\" : \"-\",\n    \"U\" : \"..-\",\n    \"V\" : \"...-\",\n    \"W\" : \".--\",\n    \"X\" : \"-..-\",\n    \"Y\" : \"-.--\",\n    \"Z\" : \"--..\"\n} \n\n#Ask user to input a string that will be converted into morse code.\ninput = input(\"Enter a string: \")\n\n#Function to convert user's input into morse code. \ndef convert(input):\n    morse_code = \"\"\n    for letter in input:\n        if letter.upper() in codes:\n            morse_code += codes[letter.upper()]\n        else: \n            morse_code += \"\"\n    return morse_code\n\nmorse_code = convert(input)\nprint (f'The morse code for \"{input}\" is: {morse_code}')",
      "metadata": {},
      "execution_count": null,
      "outputs": []
    }
  ]
}